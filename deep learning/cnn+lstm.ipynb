{
 "cells": [
  {
   "cell_type": "code",
   "execution_count": 5,
   "metadata": {},
   "outputs": [],
   "source": [
    "import numpy as np\n",
    "import pandas as pd\n",
    "def DataGenerator(filename = 'Train_Dst_NoAuction_ZScore_CF_1.txt',test = False):\n",
    "    with open('Train_Dst_NoAuction_ZScore_CF_2.txt') as f:\n",
    "        test_size = 4000\n",
    "        if test:\n",
    "            new = np.array(f.readline().split('  ')[1:],dtype='float64')[:,np.newaxis][:test_size]\n",
    "        else:\n",
    "            new = np.array(f.readline().split('  ')[1:],dtype='float64')[:,np.newaxis]\n",
    "        hi = True\n",
    "        count = 0\n",
    "        while hi:\n",
    "            try:\n",
    "                if test:\n",
    "                    b = np.array(f.readline().split('  ')[1:],dtype='float64')[:,np.newaxis][:test_size]\n",
    "                else:\n",
    "                    b = np.array(f.readline().split('  ')[1:],dtype='float64')[:,np.newaxis]\n",
    "                new = np.concatenate((new,b),axis=1)\n",
    "                count += 1\n",
    "            except:\n",
    "                hi = False\n",
    "        f.close()\n",
    "    new = pd.DataFrame(new)\n",
    "    return new"
   ]
  },
  {
   "cell_type": "code",
   "execution_count": 6,
   "metadata": {},
   "outputs": [],
   "source": [
    "def Preprocess(data = None,k = 5):\n",
    "    \"\"\"\n",
    "    Parameter k: k=1,2,3,5,10\n",
    "    \"\"\"\n",
    "    m,n = data.shape\n",
    "    bid = data.loc[:,2:39:4]\n",
    "    ask = data.loc[:,0:39:4]\n",
    "    vol_a = data.loc[:,1:39:4]\n",
    "    vol_b = data.loc[:,3:39:4]\n",
    "    ask.columns = vol_a.columns\n",
    "    bid.columns = vol_b.columns\n",
    "    vol_a.sort_values(list(vol_a.index.values),axis=1,ascending = True,inplace = True)\n",
    "    vol_b.sort_values(list(vol_b.index.values),axis=1,ascending = False,inplace = True)\n",
    "    ask = ask.loc[:,vol_a.columns]\n",
    "    bid = bid.loc[:,vol_b.columns]\n",
    "    mid = (bid.iloc[:,0]+ask.iloc[:,0])/2\n",
    "    mid_change = mid/mid.shift(1)-1\n",
    "\n",
    "    ask_column = []\n",
    "    bid_column = []\n",
    "    ask_vol_column = []\n",
    "    bid_vol_column = []\n",
    "    for i in range(10):\n",
    "        ask_column.append('a_'+str(i))\n",
    "        bid_column.append('b_'+str(i))\n",
    "        ask_vol_column.append('va_'+str(i))\n",
    "        bid_vol_column.append('vb_'+str(i))\n",
    "    mid_column = ['mid','mc']\n",
    "\n",
    "    result = pd.concat([ask,bid,vol_a,vol_b,mid,mid_change],axis=1)\n",
    "    result.columns = np.concatenate([ask_column,bid_column,ask_vol_column,bid_vol_column,mid_column])\n",
    "\n",
    "    result.iloc[:,:20]  =result.iloc[:,:20].values / result['mid'].values[:,np.newaxis]-1\n",
    "    for i in range(9):\n",
    "        result.iloc[:,i+21] += result.iloc[:,i+20]\n",
    "        result.iloc[:,i+31] += result.iloc[:,i+30]\n",
    "    \n",
    "    result = result.iloc[1:]\n",
    "    \n",
    "    labels = [1,2,3,5,10]\n",
    "    label  = data.iloc[:,labels.index(k)-5]\n",
    "    \n",
    "    return result,label"
   ]
  },
  {
   "cell_type": "code",
   "execution_count": 25,
   "metadata": {},
   "outputs": [
    {
     "name": "stderr",
     "output_type": "stream",
     "text": [
      "//anaconda/lib/python3.6/site-packages/ipykernel_launcher.py:12: SettingWithCopyWarning: \n",
      "A value is trying to be set on a copy of a slice from a DataFrame\n",
      "\n",
      "See the caveats in the documentation: http://pandas.pydata.org/pandas-docs/stable/indexing.html#indexing-view-versus-copy\n",
      "  if sys.path[0] == '':\n",
      "//anaconda/lib/python3.6/site-packages/ipykernel_launcher.py:13: SettingWithCopyWarning: \n",
      "A value is trying to be set on a copy of a slice from a DataFrame\n",
      "\n",
      "See the caveats in the documentation: http://pandas.pydata.org/pandas-docs/stable/indexing.html#indexing-view-versus-copy\n",
      "  del sys.path[0]\n"
     ]
    }
   ],
   "source": [
    "data = DataGenerator(test =True)\n",
    "data,label = Preprocess(data)\n",
    "label = label-1\n",
    "label = np_utils.to_categorical(label,num_classes = 3)"
   ]
  },
  {
   "cell_type": "code",
   "execution_count": 26,
   "metadata": {},
   "outputs": [
    {
     "data": {
      "text/plain": [
       "(4000, 3)"
      ]
     },
     "execution_count": 26,
     "metadata": {},
     "output_type": "execute_result"
    }
   ],
   "source": [
    "label.shape"
   ]
  },
  {
   "cell_type": "code",
   "execution_count": 12,
   "metadata": {},
   "outputs": [],
   "source": [
    "import keras\n",
    "from keras.models import Sequential\n",
    "from keras.layers import Dense,Activation,Softmax\n",
    "from keras.layers import LSTM,Conv1D,Dropout,MaxPooling1D\n",
    "from keras.layers.normalization import BatchNormalization\n",
    "from keras.layers.advanced_activations import PReLU\n",
    "from keras.utils import np_utils"
   ]
  },
  {
   "cell_type": "code",
   "execution_count": 3,
   "metadata": {},
   "outputs": [
    {
     "name": "stdout",
     "output_type": "stream",
     "text": [
      "Build model...\n",
      "Train\n"
     ]
    },
    {
     "ename": "NameError",
     "evalue": "name 'x_train' is not defined",
     "output_type": "error",
     "traceback": [
      "\u001b[0;31m---------------------------------------------------------------------------\u001b[0m",
      "\u001b[0;31mNameError\u001b[0m                                 Traceback (most recent call last)",
      "\u001b[0;32m<ipython-input-3-91b4cb98264f>\u001b[0m in \u001b[0;36m<module>\u001b[0;34m()\u001b[0m\n\u001b[1;32m     51\u001b[0m \u001b[0;34m\u001b[0m\u001b[0m\n\u001b[1;32m     52\u001b[0m \u001b[0mprint\u001b[0m\u001b[0;34m(\u001b[0m\u001b[0;34m'Train'\u001b[0m\u001b[0;34m)\u001b[0m\u001b[0;34m\u001b[0m\u001b[0m\n\u001b[0;32m---> 53\u001b[0;31m model.fit(x_train,y_train,\n\u001b[0m\u001b[1;32m     54\u001b[0m           \u001b[0mbatch_size\u001b[0m \u001b[0;34m=\u001b[0m \u001b[0mbatch_size\u001b[0m\u001b[0;34m,\u001b[0m\u001b[0;34m\u001b[0m\u001b[0m\n\u001b[1;32m     55\u001b[0m           \u001b[0mepochs\u001b[0m \u001b[0;34m=\u001b[0m \u001b[0mepochs\u001b[0m\u001b[0;34m,\u001b[0m\u001b[0;34m\u001b[0m\u001b[0m\n",
      "\u001b[0;31mNameError\u001b[0m: name 'x_train' is not defined"
     ]
    }
   ],
   "source": [
    "#Convolution\n",
    "kernel_size = 5\n",
    "pool_size = 2\n",
    "time_step = 300\n",
    "num_feature = 42\n",
    "#LSTM\n",
    "lstm_output_size = 32\n",
    "batch_size = 32\n",
    "epochs = 10\n",
    "\n",
    "print('Build model...')\n",
    "model = Sequential()\n",
    "model.add(Conv1D(filters=16,input_shape = (time_step,num_feature),\n",
    "                kernel_size = kernel_size,\n",
    "                padding = 'causal',\n",
    "                activation = 'relu',\n",
    "                strides = 1))\n",
    "model.add(BatchNormalization())\n",
    "model.add(MaxPooling1D(2))\n",
    "model.add(Conv1D(filters=16,\n",
    "                kernel_size = kernel_size,\n",
    "                padding = 'causal',\n",
    "                activation = 'relu',\n",
    "                strides = 1))\n",
    "model.add(BatchNormalization())\n",
    "model.add(MaxPooling1D(2))\n",
    "model.add(Conv1D(filters=32,\n",
    "                kernel_size = kernel_size,\n",
    "                padding = 'causal',\n",
    "                activation = 'relu',\n",
    "                strides = 1))\n",
    "model.add(BatchNormalization())\n",
    "model.add(MaxPooling1D(2))\n",
    "model.add(Conv1D(filters=32,\n",
    "                kernel_size = kernel_size,\n",
    "                padding = 'causal',\n",
    "                activation = 'relu',\n",
    "                strides = 1))\n",
    "model.add(BatchNormalization())\n",
    "model.add(MaxPooling1D(2))\n",
    "model.add(LSTM(lstm_output_size))\n",
    "model.add(Dense(units = 64,\n",
    "               activation = 'relu'))\n",
    "model.add(Dropout(0.5))\n",
    "model.add(Dense(units = 3))\n",
    "model.add(Activation('softmax'))\n",
    "\n",
    "\n",
    "rmsprop = RMSprop(lr=0.001, rho=0.9, epsilon=1e-08, decay=0.0)\n",
    "model.compile(loss='categorical_crossentropy',\n",
    "              optimizer=rmsprop,\n",
    "              metrics=['accuracy'])\n",
    "\n",
    "print('Train')\n",
    "model.fit(x_train,y_train,\n",
    "          batch_size = batch_size,\n",
    "          epochs = epochs,\n",
    "          validation_data = (x_test,y_test))\n",
    "score, acc = model.evaluate(x_test, y_test, batch_size=batch_size)\n",
    "print('Test cost:', score)\n",
    "print('Test accuracy:', acc)"
   ]
  },
  {
   "cell_type": "code",
   "execution_count": 4,
   "metadata": {},
   "outputs": [
    {
     "name": "stdout",
     "output_type": "stream",
     "text": [
      "_________________________________________________________________\n",
      "Layer (type)                 Output Shape              Param #   \n",
      "=================================================================\n",
      "conv1d_1 (Conv1D)            (None, 300, 16)           3376      \n",
      "_________________________________________________________________\n",
      "batch_normalization_1 (Batch (None, 300, 16)           64        \n",
      "_________________________________________________________________\n",
      "max_pooling1d_1 (MaxPooling1 (None, 150, 16)           0         \n",
      "_________________________________________________________________\n",
      "conv1d_2 (Conv1D)            (None, 150, 16)           1296      \n",
      "_________________________________________________________________\n",
      "batch_normalization_2 (Batch (None, 150, 16)           64        \n",
      "_________________________________________________________________\n",
      "max_pooling1d_2 (MaxPooling1 (None, 75, 16)            0         \n",
      "_________________________________________________________________\n",
      "conv1d_3 (Conv1D)            (None, 75, 32)            2592      \n",
      "_________________________________________________________________\n",
      "batch_normalization_3 (Batch (None, 75, 32)            128       \n",
      "_________________________________________________________________\n",
      "max_pooling1d_3 (MaxPooling1 (None, 37, 32)            0         \n",
      "_________________________________________________________________\n",
      "conv1d_4 (Conv1D)            (None, 37, 32)            5152      \n",
      "_________________________________________________________________\n",
      "batch_normalization_4 (Batch (None, 37, 32)            128       \n",
      "_________________________________________________________________\n",
      "max_pooling1d_4 (MaxPooling1 (None, 18, 32)            0         \n",
      "_________________________________________________________________\n",
      "lstm_1 (LSTM)                (None, 32)                8320      \n",
      "_________________________________________________________________\n",
      "dense_1 (Dense)              (None, 64)                2112      \n",
      "_________________________________________________________________\n",
      "dropout_1 (Dropout)          (None, 64)                0         \n",
      "_________________________________________________________________\n",
      "dense_2 (Dense)              (None, 3)                 195       \n",
      "_________________________________________________________________\n",
      "activation_1 (Activation)    (None, 3)                 0         \n",
      "=================================================================\n",
      "Total params: 23,427\n",
      "Trainable params: 23,235\n",
      "Non-trainable params: 192\n",
      "_________________________________________________________________\n"
     ]
    }
   ],
   "source": [
    "model.summary()"
   ]
  }
 ],
 "metadata": {
  "kernelspec": {
   "display_name": "Python 3",
   "language": "python",
   "name": "python3"
  },
  "language_info": {
   "codemirror_mode": {
    "name": "ipython",
    "version": 3
   },
   "file_extension": ".py",
   "mimetype": "text/x-python",
   "name": "python",
   "nbconvert_exporter": "python",
   "pygments_lexer": "ipython3",
   "version": "3.6.0"
  }
 },
 "nbformat": 4,
 "nbformat_minor": 2
}
